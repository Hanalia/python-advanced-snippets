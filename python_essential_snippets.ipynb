{
  "nbformat": 4,
  "nbformat_minor": 0,
  "metadata": {
    "colab": {
      "name": "python-essential-snippets.ipynb",
      "provenance": [],
      "authorship_tag": "ABX9TyOZDHjnlQrwDCeJW2mWnyje",
      "include_colab_link": true
    },
    "kernelspec": {
      "name": "python3",
      "display_name": "Python 3"
    },
    "language_info": {
      "name": "python"
    }
  },
  "cells": [
    {
      "cell_type": "markdown",
      "metadata": {
        "id": "view-in-github",
        "colab_type": "text"
      },
      "source": [
        "<a href=\"https://colab.research.google.com/github/Hanalia/python-advanced-snippets/blob/main/python_essential_snippets.ipynb\" target=\"_parent\"><img src=\"https://colab.research.google.com/assets/colab-badge.svg\" alt=\"Open In Colab\"/></a>"
      ]
    },
    {
      "cell_type": "markdown",
      "source": [
        "## Python Essential Snippets"
      ],
      "metadata": {
        "id": "yeReDzu-ismQ"
      }
    },
    {
      "cell_type": "code",
      "source": [
        "!python --version"
      ],
      "metadata": {
        "colab": {
          "base_uri": "https://localhost:8080/"
        },
        "id": "AkeEflNHjWR5",
        "outputId": "3e1beaa0-350e-42c3-f240-8db45602fd35"
      },
      "execution_count": 3,
      "outputs": [
        {
          "output_type": "stream",
          "name": "stdout",
          "text": [
            "Python 3.7.13\n"
          ]
        }
      ]
    },
    {
      "cell_type": "code",
      "execution_count": 4,
      "metadata": {
        "colab": {
          "base_uri": "https://localhost:8080/"
        },
        "id": "Mj-gQ9Z4irLk",
        "outputId": "ceb7c079-3e9a-4d88-fe5e-999ca4bff87f"
      },
      "outputs": [
        {
          "output_type": "stream",
          "name": "stdout",
          "text": [
            "정석윤\n",
            "my name is 정석윤\n"
          ]
        }
      ],
      "source": [
        "## f String 제대로 이용하는 법\n",
        "\n",
        "my_name = \"정석윤\"\n",
        "print(my_name)\n",
        "## print(f\"{my_name =}\")  ## only works from python 3.8 and above\n",
        "print(f\"my name is {my_name}\")"
      ]
    },
    {
      "cell_type": "code",
      "source": [
        "## using formats with f-strings\n",
        "import datetime\n",
        "now = datetime.datetime.utcnow()\n",
        "num_value = 123.456\n",
        "print(f\"{now}\")\n",
        "\n",
        "print(f\"{now:%Y-%m-%d}\")\n",
        "print(f\"{num_value:.2f}\")"
      ],
      "metadata": {
        "colab": {
          "base_uri": "https://localhost:8080/"
        },
        "id": "MsvMtzH-jdpG",
        "outputId": "814a32ba-7d22-4b8d-b3ec-dda3faf4401d"
      },
      "execution_count": 8,
      "outputs": [
        {
          "output_type": "stream",
          "name": "stdout",
          "text": [
            "2022-08-25 01:13:53.670192\n",
            "2022-08-25\n",
            "123.46\n"
          ]
        }
      ]
    }
  ]
}